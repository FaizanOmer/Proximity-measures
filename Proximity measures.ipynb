{
  "cells": [
    {
      "attachments": {},
      "cell_type": "markdown",
      "metadata": {
        "id": "p2LrH5wJmJUJ"
      },
      "source": [
        "**I apply diferent machine learning and data mining algorithms on a selected dataset so that we can get some useful insights** \n"
      ]
    },
    {
      "attachments": {},
      "cell_type": "markdown",
      "metadata": {},
      "source": [
        "here are the some important libraries that are used in this project."
      ]
    },
    {
      "cell_type": "code",
      "execution_count": 14,
      "metadata": {
        "id": "-kgn0h0FqZPq"
      },
      "outputs": [],
      "source": [
        "import pandas as pd\n",
        "import matplotlib.pyplot as plt\n",
        "import numpy as np"
      ]
    },
    {
      "attachments": {},
      "cell_type": "markdown",
      "metadata": {},
      "source": [
        "lets load our dataset so that we can apply operations on it"
      ]
    },
    {
      "cell_type": "code",
      "execution_count": 33,
      "metadata": {
        "colab": {
          "base_uri": "https://localhost:8080/"
        },
        "id": "A18aPqijwS_B",
        "outputId": "2b65d360-86c8-4b59-ccec-ab0e16cdd651"
      },
      "outputs": [
        {
          "name": "stdout",
          "output_type": "stream",
          "text": [
            "      P0  P1  P2  P3  P4  P5  P6  P7  P8  P9  ...  P55  P56  P57  P58  P59  \\\n",
            "0      0   0   5  14   4   0   0   0   0   0  ...    0    0    0    4   12   \n",
            "1      0   0   0   3  16  11   1   0   0   0  ...    0    0    0    0    2   \n",
            "2      0   0   7  11  11   6   0   0   0   9  ...    0    0    0   14   16   \n",
            "3      0   0   9  13   1   0   0   0   0   0  ...    5    0    0    4   15   \n",
            "4      0   0   0  10  12   0   0   0   0   0  ...    0    0    0    1   11   \n",
            "...   ..  ..  ..  ..  ..  ..  ..  ..  ..  ..  ...  ...  ...  ...  ...  ...   \n",
            "1150   0   0   4  16  11   1   0   0   0   0  ...    0    0    0    2   12   \n",
            "1151   0   0   0   0   7  11   1   0   0   0  ...    0    0    0    2    0   \n",
            "1152   0   1  10  16  16   4   0   0   0   8  ...    0    0    2   13   16   \n",
            "1153   0   0   3  15   0   0   0   0   0   0  ...    0    0    0    4   14   \n",
            "1154   0   0   6  16   2   0   0   0   0   0  ...    0    0    0    5   16   \n",
            "\n",
            "      P60  P61  P62  P63  y  \n",
            "0      14    7    0    0  6  \n",
            "1      14   14    1    0  1  \n",
            "2      12   10    1    0  3  \n",
            "3      16   16   16   16  1  \n",
            "4      14   12    1    0  6  \n",
            "...   ...  ...  ...  ... ..  \n",
            "1150   16   11    1    0  1  \n",
            "1151    7   11    0    0  1  \n",
            "1152   12    5    0    0  3  \n",
            "1153   16    9    0    0  6  \n",
            "1154   16   16    5    0  6  \n",
            "\n",
            "[1155 rows x 65 columns]\n",
            "lets see the head and tail data to get insights\n",
            "   P0  P1  P2  P3  P4  P5  P6  P7  P8  P9  ...  P55  P56  P57  P58  P59  P60  \\\n",
            "0   0   0   5  14   4   0   0   0   0   0  ...    0    0    0    4   12   14   \n",
            "1   0   0   0   3  16  11   1   0   0   0  ...    0    0    0    0    2   14   \n",
            "2   0   0   7  11  11   6   0   0   0   9  ...    0    0    0   14   16   12   \n",
            "3   0   0   9  13   1   0   0   0   0   0  ...    5    0    0    4   15   16   \n",
            "4   0   0   0  10  12   0   0   0   0   0  ...    0    0    0    1   11   14   \n",
            "\n",
            "   P61  P62  P63  y  \n",
            "0    7    0    0  6  \n",
            "1   14    1    0  1  \n",
            "2   10    1    0  3  \n",
            "3   16   16   16  1  \n",
            "4   12    1    0  6  \n",
            "\n",
            "[5 rows x 65 columns]\n",
            "--------------------------------------------------\n",
            "      P0  P1  P2  P3  P4  P5  P6  P7  P8  P9  ...  P55  P56  P57  P58  P59  \\\n",
            "1150   0   0   4  16  11   1   0   0   0   0  ...    0    0    0    2   12   \n",
            "1151   0   0   0   0   7  11   1   0   0   0  ...    0    0    0    2    0   \n",
            "1152   0   1  10  16  16   4   0   0   0   8  ...    0    0    2   13   16   \n",
            "1153   0   0   3  15   0   0   0   0   0   0  ...    0    0    0    4   14   \n",
            "1154   0   0   6  16   2   0   0   0   0   0  ...    0    0    0    5   16   \n",
            "\n",
            "      P60  P61  P62  P63  y  \n",
            "1150   16   11    1    0  1  \n",
            "1151    7   11    0    0  1  \n",
            "1152   12    5    0    0  3  \n",
            "1153   16    9    0    0  6  \n",
            "1154   16   16    5    0  6  \n",
            "\n",
            "[5 rows x 65 columns]\n"
          ]
        }
      ],
      "source": [
        "df = pd.read_csv('optdigits-3.csv')\n",
        "print(df)\n",
        "print(\"lets see the head and tail data to get insights\")\n",
        "print(df.head(5))\n",
        "print(\"--------------------------------------------------\")\n",
        "print(df.tail(5))"
      ]
    },
    {
      "cell_type": "code",
      "execution_count": 17,
      "metadata": {
        "colab": {
          "base_uri": "https://localhost:8080/"
        },
        "id": "SfOWmS4E0g5j",
        "outputId": "bcf3f23a-9024-4a55-be51-db6ce4177e70"
      },
      "outputs": [
        {
          "data": {
            "text/plain": [
              "array([6, 1, 3])"
            ]
          },
          "execution_count": 17,
          "metadata": {},
          "output_type": "execute_result"
        }
      ],
      "source": [
        "df[\"y\"].unique()"
      ]
    },
    {
      "cell_type": "code",
      "execution_count": 27,
      "metadata": {
        "colab": {
          "base_uri": "https://localhost:8080/"
        },
        "id": "0kJUQupX5TsA",
        "outputId": "340554ec-f4a3-4da4-b8cc-4f85c6469589"
      },
      "outputs": [
        {
          "data": {
            "text/plain": [
              "Index(['P0', 'P1', 'P2', 'P3', 'P4', 'P5', 'P6', 'P7', 'P8', 'P9', 'P10',\n",
              "       'P11', 'P12', 'P13', 'P14', 'P15', 'P16', 'P17', 'P18', 'P19', 'P20',\n",
              "       'P21', 'P22', 'P23', 'P24', 'P25', 'P26', 'P27', 'P28', 'P29', 'P30',\n",
              "       'P31', 'P32', 'P33', 'P34', 'P35', 'P36', 'P37', 'P38', 'P39', 'P40',\n",
              "       'P41', 'P42', 'P43', 'P44', 'P45', 'P46', 'P47', 'P48', 'P49', 'P50',\n",
              "       'P51', 'P52', 'P53', 'P54', 'P55', 'P56', 'P57', 'P58', 'P59', 'P60',\n",
              "       'P61', 'P62', 'P63', 'y'],\n",
              "      dtype='object')"
            ]
          },
          "execution_count": 27,
          "metadata": {},
          "output_type": "execute_result"
        }
      ],
      "source": [
        "df.columns\n",
        "\n"
      ]
    },
    {
      "cell_type": "code",
      "execution_count": 32,
      "metadata": {
        "colab": {
          "base_uri": "https://localhost:8080/"
        },
        "id": "Sb4dORZT6VdG",
        "outputId": "090c93b9-ebd7-4db2-aa9e-52a2369345f6"
      },
      "outputs": [
        {
          "data": {
            "text/plain": [
              "P0     0\n",
              "P1     0\n",
              "P2     0\n",
              "P3     0\n",
              "P4     0\n",
              "      ..\n",
              "P60    0\n",
              "P61    0\n",
              "P62    0\n",
              "P63    0\n",
              "y      0\n",
              "Length: 65, dtype: int64"
            ]
          },
          "execution_count": 32,
          "metadata": {},
          "output_type": "execute_result"
        }
      ],
      "source": [
        "count = df.isnull().sum()\n",
        "count"
      ]
    },
    {
      "attachments": {},
      "cell_type": "markdown",
      "metadata": {},
      "source": [
        "Here we can apply minkowski_distance on the data and see their insights."
      ]
    },
    {
      "cell_type": "code",
      "execution_count": 85,
      "metadata": {
        "colab": {
          "base_uri": "https://localhost:8080/"
        },
        "id": "nBsWr-vkXcJe",
        "outputId": "b2afe000-0f1c-474a-897a-65a76abf17e3"
      },
      "outputs": [
        {
          "data": {
            "text/plain": [
              "0       [0.0, 58.01723881744115, 44.609416046390926, 4...\n",
              "1       [58.01723881744115, 0.0, 44.49719092257398, 51...\n",
              "2       [44.609416046390926, 44.49719092257398, 0.0, 5...\n",
              "3       [49.0, 51.07837115648854, 51.176166327695945, ...\n",
              "4       [25.553864678361276, 56.06246516163912, 42.930...\n",
              "                              ...                        \n",
              "1150    [56.19608527290847, 35.63705936241092, 44.5869...\n",
              "1151    [63.28506932918696, 35.679125549822544, 47.169...\n",
              "1152    [49.33558553417604, 52.952809179494906, 38.935...\n",
              "1153    [33.704599092705436, 57.07889277132134, 45.782...\n",
              "1154    [33.88214869219483, 64.97691897897283, 48.8262...\n",
              "Name: minkowski_distance, Length: 1155, dtype: object"
            ]
          },
          "execution_count": 85,
          "metadata": {},
          "output_type": "execute_result"
        }
      ],
      "source": [
        "from scipy.spatial.distance import cdist\n",
        "df_data = df.loc[:, 'P0':'P63']\n",
        "minkowski_distance = cdist(df_data, df_data, metric =\"minkowski\")\n",
        "df['minkowski_distance'] = minkowski_distance.tolist()\n",
        "df[\"minkowski_distance\"]\n"
      ]
    },
    {
      "attachments": {},
      "cell_type": "markdown",
      "metadata": {},
      "source": [
        "Here is the visualization of the minkowski distance"
      ]
    },
    {
      "cell_type": "code",
      "execution_count": 86,
      "metadata": {
        "colab": {
          "base_uri": "https://localhost:8080/",
          "height": 299
        },
        "id": "b4htzwUEYmFw",
        "outputId": "46bb429f-7b65-4a6a-a0c5-5db9f93757d2"
      },
      "outputs": [
        {
          "data": {
            "text/plain": [
              "Text(0.5, 1.0, 'Minkowski Distance Illustration')"
            ]
          },
          "execution_count": 86,
          "metadata": {},
          "output_type": "execute_result"
        },
        {
          "data": {
            "image/png": "[encoded data removed]",
            "text/plain": [
              "<Figure size 432x288 with 1 Axes>"
            ]
          },
          "metadata": {
            "needs_background": "light"
          },
          "output_type": "display_data"
        }
      ],
      "source": [
        "plt.hist(minkowski_distance)\n",
        "plt.title(\"Minkowski Distance Illustration\")\n",
        "plt.show()"
      ]
    },
    {
      "attachments": {},
      "cell_type": "markdown",
      "metadata": {},
      "source": [
        "Here we can apply manhatan_distance on the data and see their insights."
      ]
    },
    {
      "cell_type": "code",
      "execution_count": 75,
      "metadata": {
        "colab": {
          "base_uri": "https://localhost:8080/"
        },
        "id": "w7h2L9UT8K2V",
        "outputId": "74c4e85b-f017-49b8-c749-120557626592"
      },
      "outputs": [
        {
          "data": {
            "text/plain": [
              "0       [0.0, 306.0, 228.0, 243.0, 109.0, 318.0, 117.0...\n",
              "1       [306.0, 0.0, 222.0, 261.0, 285.0, 88.0, 301.0,...\n",
              "2       [228.0, 222.0, 0.0, 271.0, 217.0, 248.0, 209.0...\n",
              "3       [243.0, 261.0, 271.0, 0.0, 242.0, 271.0, 258.0...\n",
              "4       [109.0, 285.0, 217.0, 242.0, 0.0, 317.0, 96.0,...\n",
              "                              ...                        \n",
              "1150    [294.0, 158.0, 216.0, 191.0, 277.0, 188.0, 281...\n",
              "1151    [345.0, 149.0, 229.0, 330.0, 310.0, 133.0, 330...\n",
              "1152    [256.0, 284.0, 188.0, 303.0, 291.0, 286.0, 305...\n",
              "1153    [154.0, 302.0, 232.0, 215.0, 137.0, 334.0, 149...\n",
              "1154    [158.0, 360.0, 268.0, 271.0, 153.0, 384.0, 103...\n",
              "Name: Manhatan_distance, Length: 1155, dtype: object"
            ]
          },
          "execution_count": 75,
          "metadata": {},
          "output_type": "execute_result"
        }
      ],
      "source": [
        "from scipy.spatial.distance import cdist\n",
        "df_data = df.loc[:, 'P0':'P63']\n",
        "Manhatan_distance = cdist(df_data, df_data, metric=\"cityblock\")\n",
        "df['Manhatan_distance']= Manhatan_distance.tolist()\n",
        "df['Manhatan_distance']\n",
        "\n"
      ]
    },
    {
      "attachments": {},
      "cell_type": "markdown",
      "metadata": {},
      "source": [
        "Here is the visualization of the manhattan distance."
      ]
    },
    {
      "cell_type": "code",
      "execution_count": 77,
      "metadata": {
        "colab": {
          "base_uri": "https://localhost:8080/",
          "height": 281
        },
        "id": "djQ7dVW_D0Hm",
        "outputId": "aa38946e-0120-4543-a768-21c892ef3b05"
      },
      "outputs": [
        {
          "data": {
            "image/png": "[encoded data removed]",
            "text/plain": [
              "<Figure size 432x288 with 1 Axes>"
            ]
          },
          "metadata": {
            "needs_background": "light"
          },
          "output_type": "display_data"
        }
      ],
      "source": [
        "plt.hist(Manhatan_distance)\n",
        "plt.title(\"Manhattan Distance illustration\")\n",
        "plt.show()"
      ]
    },
    {
      "attachments": {},
      "cell_type": "markdown",
      "metadata": {},
      "source": [
        "Here we can apply euclidian_distance on the data and see their insights."
      ]
    },
    {
      "cell_type": "code",
      "execution_count": 64,
      "metadata": {
        "colab": {
          "base_uri": "https://localhost:8080/"
        },
        "id": "lpcZmswYFQGu",
        "outputId": "be5bf64b-8755-40c3-b344-0c1ea724b343"
      },
      "outputs": [
        {
          "data": {
            "text/plain": [
              "0       [0.0, 58.01723881744115, 44.609416046390926, 4...\n",
              "1       [58.01723881744115, 0.0, 44.49719092257398, 51...\n",
              "2       [44.609416046390926, 44.49719092257398, 0.0, 5...\n",
              "3       [49.0, 51.07837115648854, 51.176166327695945, ...\n",
              "4       [25.553864678361276, 56.06246516163912, 42.930...\n",
              "                              ...                        \n",
              "1150    [56.19608527290847, 35.63705936241092, 44.5869...\n",
              "1151    [63.28506932918696, 35.679125549822544, 47.169...\n",
              "1152    [49.33558553417604, 52.952809179494906, 38.935...\n",
              "1153    [33.704599092705436, 57.07889277132134, 45.782...\n",
              "1154    [33.88214869219483, 64.97691897897283, 48.8262...\n",
              "Name: euclidian_distance, Length: 1155, dtype: object"
            ]
          },
          "execution_count": 64,
          "metadata": {},
          "output_type": "execute_result"
        }
      ],
      "source": [
        "euclidian_distance = cdist(df_data, df_data, metric = \"euclidean\")\n",
        "df['euclidian_distance']= euclidian_distance.tolist()\n",
        "df['euclidian_distance']"
      ]
    },
    {
      "attachments": {},
      "cell_type": "markdown",
      "metadata": {},
      "source": [
        "Here is the visualization of the euclidian distance"
      ]
    },
    {
      "cell_type": "code",
      "execution_count": 69,
      "metadata": {
        "colab": {
          "base_uri": "https://localhost:8080/",
          "height": 281
        },
        "id": "Fe5baqgBOCoI",
        "outputId": "c41411e5-fa3c-4216-9fd1-d1257166ad52"
      },
      "outputs": [
        {
          "data": {
            "image/png": "[encoded data removed]",
            "text/plain": [
              "<Figure size 432x288 with 1 Axes>"
            ]
          },
          "metadata": {
            "needs_background": "light"
          },
          "output_type": "display_data"
        }
      ],
      "source": [
        "plt.hist(euclidian_distance)\n",
        "plt.title(\"euclidean distance illustration\")\n",
        "plt.show()"
      ]
    },
    {
      "attachments": {},
      "cell_type": "markdown",
      "metadata": {},
      "source": [
        "Here we can apply supermum_distance on the data and see their insights."
      ]
    },
    {
      "cell_type": "code",
      "execution_count": 81,
      "metadata": {
        "colab": {
          "base_uri": "https://localhost:8080/"
        },
        "id": "ioev-J4IP56p",
        "outputId": "952e967d-38de-4e5c-8c0d-08a8330865ba"
      },
      "outputs": [
        {
          "data": {
            "text/plain": [
              "0       [0.0, 16.0, 15.0, 16.0, 12.0, 16.0, 14.0, 16.0...\n",
              "1       [16.0, 0.0, 16.0, 16.0, 16.0, 8.0, 16.0, 12.0,...\n",
              "2       [15.0, 16.0, 0.0, 16.0, 14.0, 16.0, 14.0, 16.0...\n",
              "3       [16.0, 16.0, 16.0, 0.0, 16.0, 16.0, 16.0, 16.0...\n",
              "4       [12.0, 16.0, 14.0, 16.0, 0.0, 16.0, 8.0, 16.0,...\n",
              "                              ...                        \n",
              "1150    [16.0, 13.0, 14.0, 16.0, 16.0, 16.0, 16.0, 16....\n",
              "1151    [16.0, 15.0, 16.0, 16.0, 16.0, 16.0, 16.0, 16....\n",
              "1152    [16.0, 16.0, 16.0, 16.0, 16.0, 16.0, 16.0, 16....\n",
              "1153    [13.0, 16.0, 15.0, 16.0, 12.0, 16.0, 11.0, 16....\n",
              "1154    [14.0, 16.0, 14.0, 16.0, 12.0, 16.0, 12.0, 16....\n",
              "Name: Supermum_distance, Length: 1155, dtype: object"
            ]
          },
          "execution_count": 81,
          "metadata": {},
          "output_type": "execute_result"
        }
      ],
      "source": [
        "supermum_distance = cdist(df_data, df_data, metric=\"chebyshev\")\n",
        "df[\"Supermum_distance\"] = supermum_distance.tolist()\n",
        "df[\"Supermum_distance\"]"
      ]
    },
    {
      "attachments": {},
      "cell_type": "markdown",
      "metadata": {},
      "source": [
        "Here is the visualization of the supermum distance."
      ]
    },
    {
      "cell_type": "code",
      "execution_count": 82,
      "metadata": {
        "colab": {
          "base_uri": "https://localhost:8080/",
          "height": 299
        },
        "id": "cDlfwnG5UB35",
        "outputId": "18f7df4d-886a-4b65-d664-7889c22dc9a0"
      },
      "outputs": [
        {
          "data": {
            "text/plain": [
              "Text(0.5, 1.0, 'Supermum Distance Illustration')"
            ]
          },
          "execution_count": 82,
          "metadata": {},
          "output_type": "execute_result"
        },
        {
          "data": {
            "image/png": "[encoded data removed]",
            "text/plain": [
              "<Figure size 432x288 with 1 Axes>"
            ]
          },
          "metadata": {
            "needs_background": "light"
          },
          "output_type": "display_data"
        }
      ],
      "source": [
        "plt.hist(supermum_distance)\n",
        "plt.title(\"Supermum Distance Illustration\")\n",
        "plt.show()"
      ]
    },
    {
      "attachments": {},
      "cell_type": "markdown",
      "metadata": {},
      "source": [
        "Here we can apply cosine_distance on the data and see their insights."
      ]
    },
    {
      "cell_type": "code",
      "execution_count": 87,
      "metadata": {
        "colab": {
          "base_uri": "https://localhost:8080/"
        },
        "id": "yDWHFe6GZBcM",
        "outputId": "aa398547-1477-41aa-e82f-1f2459d23d1c"
      },
      "outputs": [
        {
          "data": {
            "text/plain": [
              "0       [0.0, 0.46152799275471423, 0.2855425216568743,...\n",
              "1       [0.46152799275471423, 2.220446049250313e-16, 0...\n",
              "2       [0.2855425216568743, 0.24202733168046364, 0.0,...\n",
              "3       [0.32299906885153673, 0.3059686965837636, 0.31...\n",
              "4       [0.09987109401031413, 0.4050511038242476, 0.24...\n",
              "                              ...                        \n",
              "1150    [0.42051325668522277, 0.1464218580272728, 0.23...\n",
              "1151    [0.6145289622239831, 0.15890411890557155, 0.29...\n",
              "1152    [0.34563376671549717, 0.3395353977225738, 0.19...\n",
              "1153    [0.14031089894364657, 0.37970302288782987, 0.2...\n",
              "1154    [0.13758258866068285, 0.486085304107997, 0.284...\n",
              "Name: cosine_distance, Length: 1155, dtype: object"
            ]
          },
          "execution_count": 87,
          "metadata": {},
          "output_type": "execute_result"
        }
      ],
      "source": [
        "cosine_distance = cdist(df_data, df_data, metric = \"cosine\")\n",
        "df[\"cosine_distance\"] = cosine_distance.tolist()\n",
        "df[\"cosine_distance\"]"
      ]
    },
    {
      "attachments": {},
      "cell_type": "markdown",
      "metadata": {},
      "source": [
        "Here is the visualization of the cosine distance"
      ]
    },
    {
      "cell_type": "code",
      "execution_count": 88,
      "metadata": {
        "colab": {
          "base_uri": "https://localhost:8080/",
          "height": 281
        },
        "id": "yedBFfoKcPg8",
        "outputId": "d3854c53-00cb-40cc-b956-0ecafb2e13d2"
      },
      "outputs": [
        {
          "data": {
            "image/png": "[encoded data removed]",
            "text/plain": [
              "<Figure size 432x288 with 1 Axes>"
            ]
          },
          "metadata": {
            "needs_background": "light"
          },
          "output_type": "display_data"
        }
      ],
      "source": [
        "plt.hist(cosine_distance)\n",
        "plt.title(\"Cosine Distance Illustration\")\n",
        "plt.show()"
      ]
    },
    {
      "attachments": {},
      "cell_type": "markdown",
      "metadata": {},
      "source": [
        "Here we can apply simple matching coefficient on the data and see their insights."
      ]
    },
    {
      "cell_type": "code",
      "execution_count": 90,
      "metadata": {
        "colab": {
          "base_uri": "https://localhost:8080/"
        },
        "id": "DppGMQYfdB1i",
        "outputId": "2576bdb9-b2de-40d7-b792-888db92a7094"
      },
      "outputs": [
        {
          "data": {
            "text/plain": [
              "0       [0.0, 0.609375, 0.609375, 0.578125, 0.46875, 0...\n",
              "1       [0.609375, 0.0, 0.59375, 0.578125, 0.578125, 0...\n",
              "2       [0.609375, 0.59375, 0.0, 0.59375, 0.609375, 0....\n",
              "3       [0.578125, 0.578125, 0.59375, 0.0, 0.578125, 0...\n",
              "4       [0.46875, 0.578125, 0.609375, 0.578125, 0.0, 0...\n",
              "                              ...                        \n",
              "1150    [0.59375, 0.4375, 0.5, 0.46875, 0.578125, 0.43...\n",
              "1151    [0.609375, 0.453125, 0.609375, 0.609375, 0.593...\n",
              "1152    [0.640625, 0.65625, 0.609375, 0.6875, 0.65625,...\n",
              "1153    [0.46875, 0.59375, 0.5625, 0.515625, 0.484375,...\n",
              "1154    [0.5625, 0.671875, 0.640625, 0.578125, 0.53125...\n",
              "Name: simple_matching_coefficient, Length: 1155, dtype: object"
            ]
          },
          "execution_count": 90,
          "metadata": {},
          "output_type": "execute_result"
        }
      ],
      "source": [
        "simple_matching_coefficient = cdist(df_data, df_data, metric= \"matching\")\n",
        "df[\"simple_matching_coefficient\"] = simple_matching_coefficient.tolist()\n",
        "df[\"simple_matching_coefficient\"]"
      ]
    },
    {
      "attachments": {},
      "cell_type": "markdown",
      "metadata": {},
      "source": [
        "Here is the visualization of the simple matching coefficient."
      ]
    },
    {
      "cell_type": "code",
      "execution_count": 91,
      "metadata": {
        "colab": {
          "base_uri": "https://localhost:8080/",
          "height": 281
        },
        "id": "F5tFWIk1eKcO",
        "outputId": "3dbdcbfd-0cd8-4696-c9c9-f66160a4549a"
      },
      "outputs": [
        {
          "data": {
            "image/png": "[encoded data removed]",
            "text/plain": [
              "<Figure size 432x288 with 1 Axes>"
            ]
          },
          "metadata": {
            "needs_background": "light"
          },
          "output_type": "display_data"
        }
      ],
      "source": [
        "plt.hist(simple_matching_coefficient)\n",
        "plt.title(\"Simple Matching Coefficient Illustration\")\n",
        "plt.show()"
      ]
    },
    {
      "attachments": {},
      "cell_type": "markdown",
      "metadata": {},
      "source": [
        "Here we can apply jaccard_coefficient on the data and see their insights."
      ]
    },
    {
      "cell_type": "code",
      "execution_count": 99,
      "metadata": {
        "colab": {
          "base_uri": "https://localhost:8080/"
        },
        "id": "3RS4IG-Hfskd",
        "outputId": "68079ef5-89c5-4a6f-fe76-a421bcabfc3c"
      },
      "outputs": [
        {
          "data": {
            "text/plain": [
              "0       [0.0, 0.9285714285714286, 0.975, 0.97368421052...\n",
              "1       [0.9285714285714286, 0.0, 0.9047619047619048, ...\n",
              "2       [0.975, 0.9047619047619048, 0.0, 0.95, 0.975, ...\n",
              "3       [0.9736842105263158, 0.9024390243902439, 0.95,...\n",
              "4       [0.8823529411764706, 0.925, 0.975, 1.0, 0.0, 1...\n",
              "                              ...                        \n",
              "1150    [0.9743589743589743, 0.7567567567567568, 0.842...\n",
              "1151    [0.9512195121951219, 0.8055555555555556, 0.951...\n",
              "1152    [0.9761904761904762, 0.9333333333333333, 0.906...\n",
              "1153    [0.8823529411764706, 0.926829268292683, 0.9, 0...\n",
              "1154    [1.0, 1.0, 0.9761904761904762, 0.9487179487179...\n",
              "Name: jaccard_co_efficient, Length: 1155, dtype: object"
            ]
          },
          "execution_count": 99,
          "metadata": {},
          "output_type": "execute_result"
        }
      ],
      "source": [
        "jaccard_co_efficient = cdist(df_data, df_data, metric = \"jaccard\")\n",
        "df[\"jaccard_co_efficient\"] = jaccard_co_efficient.tolist()\n",
        "df[\"jaccard_co_efficient\"]"
      ]
    },
    {
      "attachments": {},
      "cell_type": "markdown",
      "metadata": {},
      "source": [
        "Here is the visualization of the jaccard coefficient"
      ]
    },
    {
      "cell_type": "code",
      "execution_count": 100,
      "metadata": {
        "colab": {
          "base_uri": "https://localhost:8080/",
          "height": 281
        },
        "id": "EJcoHcs9gdtU",
        "outputId": "0f71b97e-1c95-4f5b-ae47-dcf38879e621"
      },
      "outputs": [
        {
          "data": {
            "image/png": "[encoded data removed]",
            "text/plain": [
              "<Figure size 432x288 with 1 Axes>"
            ]
          },
          "metadata": {
            "needs_background": "light"
          },
          "output_type": "display_data"
        }
      ],
      "source": [
        "plt.hist(jaccard_co_efficient)\n",
        "plt.title(\"Jaccard Coefficient Illustration\")\n",
        "plt.show()"
      ]
    },
    {
      "attachments": {},
      "cell_type": "markdown",
      "metadata": {},
      "source": [
        "Here we can apply pearson correlation on the data and see their insights."
      ]
    },
    {
      "cell_type": "code",
      "execution_count": 111,
      "metadata": {
        "colab": {
          "base_uri": "https://localhost:8080/"
        },
        "id": "j6LMjDa0hlRt",
        "outputId": "5f2b09b0-0a2b-4c17-b58e-0fac0babbcc0"
      },
      "outputs": [
        {
          "data": {
            "text/plain": [
              "0       [1.1102230246251565e-16, 0.7529589853310963, 0...\n",
              "1       [0.7529589853310963, 0.0, 0.4153358632817744, ...\n",
              "2       [0.4876170963226736, 0.4153358632817744, 0.0, ...\n",
              "3       [0.5295450754361299, 0.5041070786355367, 0.553...\n",
              "4       [0.16005185795171917, 0.6526339946030112, 0.41...\n",
              "                              ...                        \n",
              "1150    [0.6812610978196624, 0.2382855630110552, 0.404...\n",
              "1151    [0.9595327979211006, 0.2473779334233872, 0.479...\n",
              "1152    [0.5776683085753331, 0.5705165742878257, 0.340...\n",
              "1153    [0.2287030515534666, 0.6219161755676564, 0.435...\n",
              "1154    [0.23006687426510897, 0.8213238899171187, 0.50...\n",
              "Name: pearson_correlation, Length: 1155, dtype: object"
            ]
          },
          "execution_count": 111,
          "metadata": {},
          "output_type": "execute_result"
        }
      ],
      "source": [
        "pearson_correlation = cdist(df_data, df_data, metric=\"correlation\")\n",
        "df[\"pearson_correlation\"] = pearson_correlation.tolist()\n",
        "df[\"pearson_correlation\"]"
      ]
    },
    {
      "attachments": {},
      "cell_type": "markdown",
      "metadata": {},
      "source": [
        "Here is the visualization of the pearson correlation"
      ]
    },
    {
      "cell_type": "code",
      "execution_count": 112,
      "metadata": {
        "colab": {
          "base_uri": "https://localhost:8080/",
          "height": 281
        },
        "id": "UPlH-cvrlTiw",
        "outputId": "c60f2496-8946-448b-dca5-c150d1f021fa"
      },
      "outputs": [
        {
          "data": {
            "image/png": "[encoded data removed]",
            "text/plain": [
              "<Figure size 432x288 with 1 Axes>"
            ]
          },
          "metadata": {
            "needs_background": "light"
          },
          "output_type": "display_data"
        }
      ],
      "source": [
        "plt.hist(pearson_correlation)\n",
        "plt.title(\"Pearson Correlation Illustration\")\n",
        "plt.show()"
      ]
    }
  ],
  "metadata": {
    "colab": {
      "provenance": []
    },
    "kernelspec": {
      "display_name": "Python 3",
      "name": "python3"
    },
    "language_info": {
      "name": "python"
    }
  },
  "nbformat": 4,
  "nbformat_minor": 0
}
